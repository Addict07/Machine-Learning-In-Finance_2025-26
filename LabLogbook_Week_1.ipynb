{
  "nbformat": 4,
  "nbformat_minor": 0,
  "metadata": {
    "colab": {
      "provenance": []
    },
    "kernelspec": {
      "name": "python3",
      "display_name": "Python 3"
    },
    "language_info": {
      "name": "python"
    }
  },
  "cells": [
    {
      "cell_type": "code",
      "execution_count": 1,
      "metadata": {
        "id": "qAQWZzhTvW9s"
      },
      "outputs": [],
      "source": [
        "student_id = 2436362\n"
      ]
    },
    {
      "cell_type": "code",
      "source": [
        "import numpy as np"
      ],
      "metadata": {
        "id": "CkIvHc6zP7Qh"
      },
      "execution_count": 2,
      "outputs": []
    },
    {
      "cell_type": "markdown",
      "source": [
        "Question 1"
      ],
      "metadata": {
        "id": "6ZQAul1uQNN1"
      }
    },
    {
      "cell_type": "code",
      "source": [
        "michael_vector = np.arange(62)\n",
        "print(f\"Created Vector: {michael_vector}\")\n",
        "print('\\n')\n",
        "print(f\"Shape: {michael_vector.shape}\")"
      ],
      "metadata": {
        "colab": {
          "base_uri": "https://localhost:8080/"
        },
        "id": "ra70ET-eP-Ug",
        "outputId": "0598b312-d481-4bcc-ed54-705eb387ef7d"
      },
      "execution_count": 19,
      "outputs": [
        {
          "output_type": "stream",
          "name": "stdout",
          "text": [
            "Created Vector: [ 0  1  2  3  4  5  6  7  8  9 10 11 12 13 14 15 16 17 18 19 20 21 22 23\n",
            " 24 25 26 27 28 29 30 31 32 33 34 35 36 37 38 39 40 41 42 43 44 45 46 47\n",
            " 48 49 50 51 52 53 54 55 56 57 58 59 60 61]\n",
            "\n",
            "\n",
            "Shape: (62,)\n"
          ]
        }
      ]
    },
    {
      "cell_type": "code",
      "source": [],
      "metadata": {
        "id": "4PiIvhsvSq6F"
      },
      "execution_count": null,
      "outputs": []
    },
    {
      "cell_type": "markdown",
      "source": [
        "Question 2"
      ],
      "metadata": {
        "id": "A_zYVh37QPyW"
      }
    },
    {
      "cell_type": "code",
      "source": [
        "two_arr = michael_vector.reshape(1,62)\n",
        "print(f\"Changing to a 2d array {two_arr}\")\n",
        "print('\\n')\n",
        "print(f\"Shape: {two_arr.shape}\")"
      ],
      "metadata": {
        "colab": {
          "base_uri": "https://localhost:8080/"
        },
        "id": "BW3tPgFJQHkO",
        "outputId": "3bc33554-7f3d-4c71-c068-f67e7d79418c"
      },
      "execution_count": 26,
      "outputs": [
        {
          "output_type": "stream",
          "name": "stdout",
          "text": [
            "Changing to a 2d array [[ 0  1  2  3  4  5  6  7  8  9 10 11 12 13 14 15 16 17 18 19 20 21 22 23\n",
            "  24 25 26 27 28 29 30 31 32 33 34 35 36 37 38 39 40 41 42 43 44 45 46 47\n",
            "  48 49 50 51 52 53 54 55 56 57 58 59 60 61]]\n",
            "\n",
            "\n",
            "Shape: (1, 62)\n"
          ]
        }
      ]
    },
    {
      "cell_type": "markdown",
      "source": [
        "Question 3"
      ],
      "metadata": {
        "id": "AqF2n2PiTZKt"
      }
    },
    {
      "cell_type": "code",
      "source": [
        "another_arr = two_arr.copy()\n",
        "print(f\"Saving in another array {another_arr}\")\n",
        "print('\\n')\n",
        "print(f\"Shape: {two_arr.shape}\")"
      ],
      "metadata": {
        "colab": {
          "base_uri": "https://localhost:8080/"
        },
        "id": "UUPvKV5TTWVm",
        "outputId": "6816ffc6-927a-4c83-d2cb-6d9bae02be17"
      },
      "execution_count": 27,
      "outputs": [
        {
          "output_type": "stream",
          "name": "stdout",
          "text": [
            "Saving in another array [[ 0  1  2  3  4  5  6  7  8  9 10 11 12 13 14 15 16 17 18 19 20 21 22 23\n",
            "  24 25 26 27 28 29 30 31 32 33 34 35 36 37 38 39 40 41 42 43 44 45 46 47\n",
            "  48 49 50 51 52 53 54 55 56 57 58 59 60 61]]\n",
            "\n",
            "\n",
            "Shape: (1, 62)\n"
          ]
        }
      ]
    },
    {
      "cell_type": "code",
      "source": [],
      "metadata": {
        "id": "nUcvdYnGTYI_"
      },
      "execution_count": null,
      "outputs": []
    },
    {
      "cell_type": "markdown",
      "source": [
        "Question 4"
      ],
      "metadata": {
        "id": "b59s-xmZUNYQ"
      }
    },
    {
      "cell_type": "code",
      "source": [
        "print(f\"The shape attribute value: {another_arr.shape}\")"
      ],
      "metadata": {
        "colab": {
          "base_uri": "https://localhost:8080/"
        },
        "id": "o1d1JkqcULip",
        "outputId": "76ece272-6a4f-43bb-f81a-6f794f1be00d"
      },
      "execution_count": 28,
      "outputs": [
        {
          "output_type": "stream",
          "name": "stdout",
          "text": [
            "The shape attribute value: (1, 62)\n"
          ]
        }
      ]
    },
    {
      "cell_type": "markdown",
      "source": [],
      "metadata": {
        "id": "Bt8sPT2WTVnl"
      }
    }
  ]
}